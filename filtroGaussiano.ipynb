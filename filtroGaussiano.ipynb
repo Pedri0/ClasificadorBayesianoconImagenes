{
 "cells": [
  {
   "cell_type": "code",
   "execution_count": 2,
   "metadata": {},
   "outputs": [],
   "source": [
    "import glob\n",
    "import cv2\n",
    "\n",
    "images = [cv2.imread(file) for file in glob.glob(\"imagenesOriginales/*.jpg\")]\n",
    "j=1\n",
    "for i in images:\n",
    "    blur = cv2.GaussianBlur(i,(17,17),0)\n",
    "    cv2.imwrite('imagenesBlur/00goose-mugshot-'+'%d'%j + '.jpg',blur)\n",
    "    j = j+1"
   ]
  }
 ],
 "metadata": {
  "kernelspec": {
   "display_name": "Python 3",
   "language": "python",
   "name": "python3"
  },
  "language_info": {
   "codemirror_mode": {
    "name": "ipython",
    "version": 3
   },
   "file_extension": ".py",
   "mimetype": "text/x-python",
   "name": "python",
   "nbconvert_exporter": "python",
   "pygments_lexer": "ipython3",
   "version": "3.7.7"
  }
 },
 "nbformat": 4,
 "nbformat_minor": 4
}
