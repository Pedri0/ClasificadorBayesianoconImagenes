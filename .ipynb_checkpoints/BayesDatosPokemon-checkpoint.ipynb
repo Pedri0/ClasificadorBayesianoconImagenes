{
 "cells": [
  {
   "cell_type": "code",
   "execution_count": 1,
   "metadata": {},
   "outputs": [],
   "source": [
    "import numpy as np\n",
    "import cv2\n",
    "import glob\n",
    "import pandas as pd\n",
    "import math\n",
    "\n",
    "#leemos todas las mascaras y las asignamos a una lista con el nombre de la clase segun el nombre de la imagen nombre\n",
    "cuerpo = [cv2.imread(file) for file in glob.glob(\"jigglypuff/cuerpo*.png\")]\n",
    "ojos = [cv2.imread(file) for file in glob.glob(\"jigglypuff/ojos*.png\")]\n",
    "orejas = [cv2.imread(file) for file in glob.glob(\"jigglypuff/orejas*.png\")]\n",
    "\n",
    "\n",
    "#definimos variables auxiliares para obtener el nivel de Rojo,Azul,Verde en las imagens\n",
    "#las variables pixelesColor es auxiliar que contendra la cuenta de los pixeles de la clase\n",
    "# tamano imagen es el tamano de las imagenes (512 x 512) ya que todas las imagenes tienen esa resolucion\n",
    "#creamos el array media Cuerpo que va a tener las medias de los niveles de color de cada imagen para la clase cuerpo\n",
    "#columna 0 media de los azules, columna 1 media de los verdes, columna 2 media de los rojos\n",
    "#creamos el array probabilidadCuerpo que contendra la probabilidad a priori del cuerpo de cada imagen\n",
    "Rojo = 0\n",
    "Azul = 0\n",
    "Verde = 0\n",
    "pixelesAzules = 0\n",
    "pixelesVerdes = 0\n",
    "pixelesRojos = 0\n",
    "tamanoImagen = cuerpo[1].shape[0]*cuerpo[1].shape[1]\n",
    "mediaCuerpo = np.zeros((5,3),dtype=float)\n",
    "probabilidadCuerpo = np.zeros((5,1),dtype=float)"
   ]
  },
  {
   "cell_type": "code",
   "execution_count": 2,
   "metadata": {},
   "outputs": [],
   "source": [
    "#recorremos las imagenes (5)\n",
    "for i in range(len(cuerpo)):\n",
    "    #para una imagen dada recorremos las filas de dicha imagen\n",
    "    for filas in range(cuerpo[1].shape[0]):\n",
    "        #para una imagen dada una fila dada recorremos las columnas\n",
    "        for columnas in range(cuerpo[1].shape[1]):\n",
    "            #para cada pixel recorremos su espacio de color\n",
    "            for color in range(cuerpo[1].shape[2]):\n",
    "                #Si el color del pixel es azul\n",
    "                if color == 0:\n",
    "                    #Suma recursivamente el valor de la intensidad a la variable Azul\n",
    "                    Azul += cuerpo[i][filas][columnas][color]\n",
    "                    #Si el valor del pixel en el color es diferente de cero uma uno a la variable pixeles (cuentalos)\n",
    "                    if cuerpo[i][filas][columnas][color] != 0:\n",
    "                        pixelesAzules += 1\n",
    "                #Si el color es verde\n",
    "                if color == 1:\n",
    "                #Suma recursivamente el valor de la intensidad a la variable verde\n",
    "                    Verde += cuerpo[i][filas][columnas][color]\n",
    "                    #si el valor del pixel en el color es diferente de cero suma uno a la variable pixeles (cuentalos)\n",
    "                    if cuerpo[i][filas][columnas][color] != 0:\n",
    "                        pixelesVerdes += 1\n",
    "                #si el color es rojo\n",
    "                if color == 2:\n",
    "                    #Suma recursivamente el valor de la intensidad a la variable rojo\n",
    "                    Rojo += cuerpo[i][filas][columnas][color]\n",
    "                    #si el valor del pixel en el color es diferente de cero suma uno a la variable pixeles (cuentalos)\n",
    "                    if cuerpo[i][filas][columnas][color] != 0:\n",
    "                        pixelesRojos += 1\n",
    "    #Aqui termina de recorrer una imagen\n",
    "    #el promedio del azul es el valor de la suma de las intensidades de azul entre el total de pixeles azules que \n",
    "    #NO tienen valor 0\n",
    "    mediaAzul = Azul/pixelesAzules\n",
    "    #el promedio del verde es el valor de la suma de las intensidades de verde entre el total de pixeles verdes que \n",
    "    #NO tienen valor 0\n",
    "    mediaVerde = Verde/pixelesVerdes\n",
    "    #el promedio del rojo es el valor de la suma de las intensidades de rojo entre el total de pixeles verdes que \n",
    "    #NO tienen valor 0\n",
    "    mediaRojo = Rojo/pixelesRojos\n",
    "    #Escribe la media de la imagen i en la columna que le corresponde a cada color\n",
    "    mediaCuerpo[i][0] = mediaAzul\n",
    "    mediaCuerpo[i][1] = mediaVerde\n",
    "    mediaCuerpo[i][2] = mediaRojo\n",
    "    #Escribe la probabilidad del cuerpo de la imagen i, considerando unicamente la cuenta de los pixeles verdes que\n",
    "    #NO tienen valor 0 y el tamaño de la imagen\n",
    "    probabilidadCuerpo[i][0] = pixelesVerdes/tamanoImagen\n",
    "    #resetea los valores de las variables auxiliares para evitar errores de calculo en la siguiente imagen\n",
    "    mediaAzul=0\n",
    "    mediaVerde=0\n",
    "    mediaRojo = 0\n",
    "    pixelesAzules = 0\n",
    "    pixelesVerdes = 0\n",
    "    pixelesRojos = 0\n",
    "    Rojo = 0\n",
    "    Azul = 0\n",
    "    Verde = 0"
   ]
  },
  {
   "cell_type": "code",
   "execution_count": 3,
   "metadata": {},
   "outputs": [
    {
     "data": {
      "text/plain": [
       "array([[231.60895243, 219.11930604, 252.48161405],\n",
       "       [183.5449777 , 177.5890674 , 190.09366223],\n",
       "       [229.23326678, 221.33151414, 246.34956184],\n",
       "       [220.5143451 , 200.44442416, 219.82981084],\n",
       "       [200.90454356, 195.16023568, 212.54086725]])"
      ]
     },
     "execution_count": 3,
     "metadata": {},
     "output_type": "execute_result"
    }
   ],
   "source": [
    "#mostramos el array de la media del cuerpo de cada imagen que acabamos de crear\n",
    "mediaCuerpo"
   ]
  },
  {
   "cell_type": "code",
   "execution_count": 4,
   "metadata": {},
   "outputs": [
    {
     "data": {
      "text/plain": [
       "0"
      ]
     },
     "execution_count": 4,
     "metadata": {},
     "output_type": "execute_result"
    }
   ],
   "source": [
    "#nos aseguramos que al menos una de las variables auxiliares sea 0, revisamos una ya que la configuracion\n",
    "#del script debe dejar conb el mismo valor a las variables auxiliares\n",
    "mediaRojo"
   ]
  },
  {
   "cell_type": "code",
   "execution_count": 5,
   "metadata": {},
   "outputs": [],
   "source": [
    "#definimos el array de las varianzas de las imagenes, tiene el mismo tamano que las medias ya que a cada media le\n",
    "#correspone una varianza para la clase Cuerpo\n",
    "varianzaCuerpo = np.zeros((5,3),dtype=float)\n",
    "#creamos variables auxiliares para calcular la varianza\n",
    "varAzul = 0.0\n",
    "varVerde = 0.0\n",
    "varRojo = 0.0\n",
    "#recorremos las imagenes (5)\n",
    "for i in range(len(cuerpo)):\n",
    "    #para una imagen dada recorremos las filas de dicha imagen\n",
    "    for filas in range(cuerpo[1].shape[0]):\n",
    "        #para una imagen dada una fila dada recorremos las columnas\n",
    "        for columnas in range(cuerpo[1].shape[1]):\n",
    "            #para cada pixel recorremos su espacio de color\n",
    "            for color in range(cuerpo[1].shape[2]):\n",
    "                #Si el color es azul\n",
    "                if color == 0:\n",
    "                    #si el valor de la intensidad del azul es distinto de cero\n",
    "                    if cuerpo[i][filas][columnas][color] != 0:\n",
    "                        #suma recursivamente las (x_i - mediaAzuldeimageni)^2 (toda la suma es casi la varianza)\n",
    "                        #falta dividir entre N. Suma recursivamente 1 a los pixeles azules (cuenta de pixeles)\n",
    "                        #azules que no tienen valor cero, pixelesAzules es exactamente N\n",
    "                        varAzul += pow((cuerpo[i][filas][columnas][color]-mediaCuerpo[i][color]),2)\n",
    "                        pixelesAzules += 1\n",
    "                #si el color es verde\n",
    "                if color == 1:\n",
    "                    #si el valor de la intensidad del verde en dicho pixel es diferente de cero\n",
    "                    if cuerpo[i][filas][columnas][color] != 0:\n",
    "                        #suma recursivamente las (x_i - mediaAzuldeimageni)^2 (toda la suma es casi la varianza)\n",
    "                        #falta dividir entre N. Suma recursivamente 1 a los pixeles verdes (cuenta de pixeles\n",
    "                        #verdes que no tienen valor cero) pixelesVerdes es exactamente N\n",
    "                        varVerde += pow((cuerpo[i][filas][columnas][color]-mediaCuerpo[i][color]),2)\n",
    "                        pixelesVerdes += 1\n",
    "                #si el color es rojo\n",
    "                if color == 2:\n",
    "                    #si el valor de la intensidad del pixel en el rojo es diferente de cero\n",
    "                    if cuerpo[i][filas][columnas][color] != 0:\n",
    "                        #suma recursivamente las (x_i - mediaAzuldeimageni)^2 (toda la suma es casi la varianza)\n",
    "                        #falta dividir entre N. Suma recursivamente 1 a los pixeles rojos (cuenta de pixeles\n",
    "                        #rojos que no tienen valor cero) pixelesRojos es exactamente N\n",
    "                        varRojo += pow((cuerpo[i][filas][columnas][color]-mediaCuerpo[i][color]),2)\n",
    "                        pixelesRojos += 1\n",
    "\n",
    "    #Aqui termina de recorrer una imagen\n",
    "    #la varianza es la division entre varColor y pixeles color (de lo anterior esta es la definicion de la varianza)\n",
    "    varAzul = varAzul/pixelesAzules\n",
    "    varVerde = varVerde/pixelesVerdes                        \n",
    "    varRojo = varRojo/pixelesRojos\n",
    "    #asignamos la varianza a en la fila i (imagen i) en sus respectivas columnas (BGR)\n",
    "    varianzaCuerpo[i][0] = varAzul\n",
    "    varianzaCuerpo[i][1] = varVerde\n",
    "    varianzaCuerpo[i][2] = varRojo\n",
    "    #resetea los valores de las variables auxiliares para evitar errores de calculo en la siguiente imagen\n",
    "    varAzul=0\n",
    "    varVerde=0\n",
    "    varRojo = 0\n",
    "    pixelesAzules = 0\n",
    "    pixelesVerdes = 0\n",
    "    pixelesRojos = 0"
   ]
  },
  {
   "cell_type": "code",
   "execution_count": 6,
   "metadata": {},
   "outputs": [
    {
     "data": {
      "text/plain": [
       "array([[ 11.79137125, 189.77674627,   5.2775067 ],\n",
       "       [ 46.05546916,  86.85880663,  20.63032164],\n",
       "       [  2.0072505 ,   1.88342061,   1.95917091],\n",
       "       [ 92.07231665, 131.342447  ,  36.31274807],\n",
       "       [ 72.38613158, 166.39744001,  82.90605888]])"
      ]
     },
     "execution_count": 6,
     "metadata": {},
     "output_type": "execute_result"
    }
   ],
   "source": [
    "#mostramos el array de la media del cuerpo de cada imagen que acabamos de crear\n",
    "varianzaCuerpo"
   ]
  },
  {
   "cell_type": "code",
   "execution_count": 7,
   "metadata": {},
   "outputs": [
    {
     "data": {
      "text/plain": [
       "0"
      ]
     },
     "execution_count": 7,
     "metadata": {},
     "output_type": "execute_result"
    }
   ],
   "source": [
    "#nos aseguramos que al menos una de las variables auxiliares sea 0, revisamos una ya que la configuracion\n",
    "#del script debe dejar conb el mismo valor a las variables auxiliares\n",
    "pixelesAzules"
   ]
  },
  {
   "cell_type": "code",
   "execution_count": 8,
   "metadata": {},
   "outputs": [],
   "source": [
    "#creamos el array mediaOjos que va a tener las medias de los niveles de color de cada imagen para la clase Ojos\n",
    "#creamos el array probabilidadOjos que va a tener las probabilidades a priori de cada imagen de la clase ojos\n",
    "mediaOjos = np.zeros((5,3),dtype=float)\n",
    "probabilidadOjos = np.zeros((5,1),dtype=float)\n",
    "#recorremos las imagenes (5)\n",
    "for i in range(len(ojos)):\n",
    "    #para una imagen dada recorremos las filas de dicha imagen\n",
    "    for filas in range(ojos[1].shape[0]):\n",
    "        #para una imagen dada una fila dada recorremos las columnas\n",
    "        for columnas in range(ojos[1].shape[1]):\n",
    "            #para cada pixel recorremos su espacio de color\n",
    "            for color in range(ojos[1].shape[2]):\n",
    "                 #Si el color del pixel es azul\n",
    "                if color == 0:\n",
    "                    #Suma recursivamente el valor de la intensidad a la variable Azul\n",
    "                    Azul += ojos[i][filas][columnas][color]\n",
    "                    #Si el valor del pixel en el color es diferente de cero uma uno a la variable pixeles (cuentalos)\n",
    "                    if ojos[i][filas][columnas][color] != 0:\n",
    "                        pixelesAzules += 1\n",
    "                #Si el color es verde\n",
    "                if color == 1:\n",
    "                    #Suma recursivamente el valor de la intensidad a la variable verde\n",
    "                    Verde += ojos[i][filas][columnas][color]\n",
    "                    #si el valor del pixel en el color es diferente de cero suma uno a la variable pixeles (cuentalos)\n",
    "                    if ojos[i][filas][columnas][color] != 0:\n",
    "                        pixelesVerdes += 1\n",
    "                #si el color es rojo\n",
    "                if color == 2:\n",
    "                    #Suma recursivamente el valor de la intensidad a la variable rojo\n",
    "                    Rojo += ojos[i][filas][columnas][color]\n",
    "                    #si el valor del pixel en el color es diferente de cero suma uno a la variable pixeles (cuentalos)\n",
    "                    if ojos[i][filas][columnas][color] != 0:\n",
    "                        pixelesRojos += 1\n",
    "    #Aqui termina de recorrer una imagen\n",
    "    #el promedio del azul es el valor de la suma de las intensidades de azul entre el total de pixeles azules que \n",
    "    #NO tienen valor 0\n",
    "    mediaAzul = Azul/pixelesAzules\n",
    "    #el promedio del verde es el valor de la suma de las intensidades de verde entre el total de pixeles verdes que \n",
    "    #NO tienen valor 0\n",
    "    mediaVerde = Verde/pixelesVerdes\n",
    "    #el promedio del rojo es el valor de la suma de las intensidades de rojo entre el total de pixeles verdes que \n",
    "    #NO tienen valor 0\n",
    "    mediaRojo = Rojo/pixelesRojos\n",
    "    #Escribe la media de la imagen i en la columna que le corresponde a cada color\n",
    "    mediaOjos[i][0] = mediaAzul\n",
    "    mediaOjos[i][1] = mediaVerde\n",
    "    mediaOjos[i][2] = mediaRojo\n",
    "    #Escribe la probabilidad del cuerpo de la imagen i, considerando unicamente la cuenta de los pixeles verdes que\n",
    "    #NO tienen valor 0 y el tamaño de la imagen\n",
    "    probabilidadOjos[i][0] = pixelesVerdes/tamanoImagen\n",
    "    #resetea los valores de las variables auxiliares para evitar errores de calculo en la siguiente imagen\n",
    "    mediaAzul=0\n",
    "    mediaVerde=0\n",
    "    mediaRojo = 0\n",
    "    pixelesAzules = 0\n",
    "    pixelesVerdes = 0\n",
    "    pixelesRojos = 0\n",
    "    Rojo = 0\n",
    "    Azul = 0\n",
    "    Verde = 0"
   ]
  },
  {
   "cell_type": "code",
   "execution_count": 9,
   "metadata": {},
   "outputs": [
    {
     "data": {
      "text/plain": [
       "array([[164.60167159, 180.13158699,  80.18091938],\n",
       "       [114.69181314,  96.32561664,  70.06837461],\n",
       "       [134.3496844 , 143.79588819,  65.71228133],\n",
       "       [162.86266345, 147.84917132,  87.024569  ],\n",
       "       [138.3481786 , 142.89585474, 105.27018385]])"
      ]
     },
     "execution_count": 9,
     "metadata": {},
     "output_type": "execute_result"
    }
   ],
   "source": [
    "#mostramos el array de la media de los ojos de cada imagen que acabamos de crear\n",
    "mediaOjos"
   ]
  },
  {
   "cell_type": "code",
   "execution_count": 10,
   "metadata": {},
   "outputs": [
    {
     "data": {
      "text/plain": [
       "0"
      ]
     },
     "execution_count": 10,
     "metadata": {},
     "output_type": "execute_result"
    }
   ],
   "source": [
    "#nos aseguramos que al menos una de las variables auxiliares sea 0, revisamos una ya que la configuracion\n",
    "#del script debe dejar conb el mismo valor a las variables auxiliares\n",
    "varAzul"
   ]
  },
  {
   "cell_type": "code",
   "execution_count": 11,
   "metadata": {},
   "outputs": [],
   "source": [
    "#definimos el array de las varianzas de las imagenes, tiene el mismo tamano que las medias ya que a cada media le\n",
    "#correspone una varianza para la Clase Ojos\n",
    "varianzaOjos = np.zeros((5,3),dtype=float)\n",
    "#recorremos las imagenes (5)\n",
    "for i in range(len(ojos)):\n",
    "    #para una imagen dada recorremos las filas de dicha imagen\n",
    "    for filas in range(ojos[1].shape[0]):\n",
    "        #para una imagen dada una fila dada recorremos las columnas\n",
    "        for columnas in range(ojos[1].shape[1]):\n",
    "            #para cada pixel recorremos su espacio de color\n",
    "            for color in range(ojos[1].shape[2]):\n",
    "                #Si el color es azul\n",
    "                if color == 0:\n",
    "                    #si el valor de la intensidad del azul es distinto de cero\n",
    "                    if ojos[i][filas][columnas][color] != 0:\n",
    "                        #suma recursivamente las (x_i - mediaAzuldeimageni)^2 (toda la suma es casi la varianza)\n",
    "                        #falta dividir entre N. Suma recursivamente 1 a los pixeles azules (cuenta de pixeles)\n",
    "                        #azules que no tienen valor cero, pixelesAzules es exactamente N\n",
    "                        varAzul += pow((ojos[i][filas][columnas][color]-mediaOjos[i][color]),2)\n",
    "                        pixelesAzules += 1\n",
    "                #si el color es verde\n",
    "                if color == 1:\n",
    "                    #si el valor de la intensidad del verde en dicho pixel es diferente de cero\n",
    "                    if ojos[i][filas][columnas][color] != 0:\n",
    "                        #suma recursivamente las (x_i - mediaAzuldeimageni)^2 (toda la suma es casi la varianza)\n",
    "                        #falta dividir entre N. Suma recursivamente 1 a los pixeles verdes (cuenta de pixeles\n",
    "                        #verdes que no tienen valor cero) pixelesVerdes es exactamente N\n",
    "                        varVerde += pow((ojos[i][filas][columnas][color]-mediaOjos[i][color]),2)\n",
    "                        pixelesVerdes += 1\n",
    "                #si el color es rojo\n",
    "                if color == 2:\n",
    "                    #si el valor de la intensidad del pixel en el rojo es diferente de cero\n",
    "                    if ojos[i][filas][columnas][color] != 0:\n",
    "                        #suma recursivamente las (x_i - mediaAzuldeimageni)^2 (toda la suma es casi la varianza)\n",
    "                        #falta dividir entre N. Suma recursivamente 1 a los pixeles rojos (cuenta de pixeles\n",
    "                        #rojos que no tienen valor cero) pixelesRojos es exactamente N\n",
    "                        varRojo += pow((ojos[i][filas][columnas][color]-mediaOjos[i][color]),2)\n",
    "                        pixelesRojos += 1\n",
    "    #Aqui termina de recorrer una imagen\n",
    "    #la varianza es la division entre varColor y pixeles color (de lo anterior esta es la definicion de la varianza)\n",
    "    varAzul = varAzul/pixelesAzules\n",
    "    varVerde = varVerde/pixelesVerdes                        \n",
    "    varRojo = varRojo/pixelesRojos\n",
    "    #asignamos la varianza a en la fila i (imagen i) en sus respectivas columnas (BGR)\n",
    "    varianzaOjos[i][0] = varAzul\n",
    "    varianzaOjos[i][1] = varVerde\n",
    "    varianzaOjos[i][2] = varRojo\n",
    "    #resetea los valores de las variables auxiliares para evitar errores de calculo en la siguiente imagen\n",
    "    varAzul=0\n",
    "    varVerde=0\n",
    "    varRojo = 0\n",
    "    pixelesAzules = 0\n",
    "    pixelesVerdes = 0\n",
    "    pixelesRojos = 0"
   ]
  },
  {
   "cell_type": "code",
   "execution_count": 12,
   "metadata": {},
   "outputs": [
    {
     "data": {
      "text/plain": [
       "array([[ 429.50395807,  394.72481105,  837.68951871],\n",
       "       [1592.9246263 , 1048.3214801 ,  500.85657115],\n",
       "       [ 752.21824381,  989.35502006, 2127.67689335],\n",
       "       [ 428.93283352,  479.85290658,  694.29830533],\n",
       "       [ 370.40121085,  369.23432905,  413.94253112]])"
      ]
     },
     "execution_count": 12,
     "metadata": {},
     "output_type": "execute_result"
    }
   ],
   "source": [
    "#mostramos el array de la varianza de los ojos de cada imagen que acabamos de crear\n",
    "varianzaOjos"
   ]
  },
  {
   "cell_type": "code",
   "execution_count": 13,
   "metadata": {},
   "outputs": [
    {
     "data": {
      "text/plain": [
       "0"
      ]
     },
     "execution_count": 13,
     "metadata": {},
     "output_type": "execute_result"
    }
   ],
   "source": [
    "#nos aseguramos que al menos una de las variables auxiliares sea 0, revisamos una ya que la configuracion\n",
    "#del script debe dejar conb el mismo valor a las variables auxiliares\n",
    "pixelesAzules"
   ]
  },
  {
   "cell_type": "code",
   "execution_count": 14,
   "metadata": {},
   "outputs": [],
   "source": [
    "#creamos el array mediaOrejas que va a tener las medias de los niveles de color de cada imagen para la clase Orejas\n",
    "#creamos el array probabilidadOrejas que va a tener las probabilidades a priori de cada imagen de la clase orejas\n",
    "mediaOrejas = np.zeros((5,3),dtype=float)\n",
    "probabilidadOrejas = np.zeros((5,1),dtype=float)\n",
    "#recorremos las imagenes (5)\n",
    "for i in range(len(orejas)):\n",
    "    #para una imagen dada recorremos las filas de dicha imagen\n",
    "    for filas in range(orejas[1].shape[0]):\n",
    "        #para una imagen dada una fila dada recorremos las columnas\n",
    "        for columnas in range(orejas[1].shape[1]):\n",
    "            #para cada pixel recorremos su espacio de color\n",
    "            for color in range(orejas[1].shape[2]):\n",
    "                #Si el color del pixel es azul\n",
    "                if color == 0:\n",
    "                    #Suma recursivamente el valor de la intensidad a la variable Azul\n",
    "                    Azul += orejas[i][filas][columnas][color]\n",
    "                    #Si el valor del pixel en el color es diferente de cero uma uno a la variable pixeles (cuentalos)\n",
    "                    if orejas[i][filas][columnas][color] != 0:\n",
    "                        pixelesAzules += 1\n",
    "                #Si el color es verde\n",
    "                if color == 1:\n",
    "                    #Suma recursivamente el valor de la intensidad a la variable verde\n",
    "                    Verde += orejas[i][filas][columnas][color]\n",
    "                    #si el valor del pixel en el color es diferente de cero suma uno a la variable pixeles (cuentalos)\n",
    "                    if orejas[i][filas][columnas][color] != 0:\n",
    "                        pixelesVerdes += 1\n",
    "                #si el color es rojo\n",
    "                if color == 2:\n",
    "                    #Suma recursivamente el valor de la intensidad a la variable rojo\n",
    "                    Rojo += orejas[i][filas][columnas][color]\n",
    "                    #si el valor del pixel en el color es diferente de cero suma uno a la variable pixeles (cuentalos)\n",
    "                    if orejas[i][filas][columnas][color] != 0:\n",
    "                        pixelesRojos += 1\n",
    "    #Aqui termina de recorrer una imagen\n",
    "    #el promedio del azul es el valor de la suma de las intensidades de azul entre el total de pixeles azules que \n",
    "    #NO tienen valor 0\n",
    "    mediaAzul = Azul/pixelesAzules\n",
    "    #el promedio del verde es el valor de la suma de las intensidades de verde entre el total de pixeles verdes que \n",
    "    #NO tienen valor 0\n",
    "    mediaVerde = Verde/pixelesVerdes\n",
    "    #el promedio del rojo es el valor de la suma de las intensidades de rojo entre el total de pixeles verdes que \n",
    "    #NO tienen valor 0\n",
    "    mediaRojo = Rojo/pixelesRojos\n",
    "    #Escribe la media de la imagen i en la columna que le corresponde a cada color\n",
    "    mediaOrejas[i][0] = mediaAzul\n",
    "    mediaOrejas[i][1] = mediaVerde\n",
    "    mediaOrejas[i][2] = mediaRojo\n",
    "    #Escribe la probabilidad del cuerpo de la imagen i, considerando unicamente la cuenta de los pixeles verdes que\n",
    "    #NO tienen valor 0 y el tamaño de la imagen\n",
    "    probabilidadOrejas[i][0] = pixelesVerdes/tamanoImagen\n",
    "    #resetea los valores de las variables auxiliares para evitar errores de calculo en la siguiente imagen\n",
    "    mediaAzul=0\n",
    "    mediaVerde=0\n",
    "    mediaRojo = 0\n",
    "    pixelesAzules = 0\n",
    "    pixelesVerdes = 0\n",
    "    pixelesRojos = 0\n",
    "    Rojo = 0\n",
    "    Azul = 0\n",
    "    Verde = 0"
   ]
  },
  {
   "cell_type": "code",
   "execution_count": 15,
   "metadata": {},
   "outputs": [
    {
     "data": {
      "text/plain": [
       "array([[43.16846269, 44.63129177, 69.03955804],\n",
       "       [31.71591957, 37.95862449, 42.83725634],\n",
       "       [52.16060532, 51.65340493, 69.06102026],\n",
       "       [28.60957592, 24.55677155, 37.15950752],\n",
       "       [34.41704312, 38.85585216, 53.59712526]])"
      ]
     },
     "execution_count": 15,
     "metadata": {},
     "output_type": "execute_result"
    }
   ],
   "source": [
    "#mostramos el array de la media de las orejas de cada imagen que acabamos de crear\n",
    "mediaOrejas"
   ]
  },
  {
   "cell_type": "code",
   "execution_count": 16,
   "metadata": {},
   "outputs": [],
   "source": [
    "#definimos el array de las varianzas de las imagenes, tiene el mismo tamano que las medias ya que a cada media le\n",
    "#correspone una varianza para la clase Orejas\n",
    "varianzaOrejas = np.zeros((5,3),dtype=float)\n",
    "#recorremos las imagenes (5)\n",
    "for i in range(len(cuerpo)):\n",
    "    #para una imagen dada recorremos las filas de dicha imagen\n",
    "    for filas in range(orejas[1].shape[0]):\n",
    "        #para una imagen dada una fila dada recorremos las columnas\n",
    "        for columnas in range(orejas[1].shape[1]):\n",
    "            #para cada pixel recorremos su espacio de color\n",
    "            for color in range(orejas[1].shape[2]):\n",
    "                #Si el color es azul\n",
    "                if color == 0:\n",
    "                    #si el valor de la intensidad del azul es distinto de cero\n",
    "                    if orejas[i][filas][columnas][color] != 0:\n",
    "                        #suma recursivamente las (x_i - mediaAzuldeimageni)^2 (toda la suma es casi la varianza)\n",
    "                        #falta dividir entre N. Suma recursivamente 1 a los pixeles azules (cuenta de pixeles)\n",
    "                        #azules que no tienen valor cero, pixelesAzules es exactamente N\n",
    "                        varAzul += pow((orejas[i][filas][columnas][color]-mediaOrejas[i][color]),2)\n",
    "                        pixelesAzules += 1\n",
    "                #si el color es verde\n",
    "                if color == 1:\n",
    "                    #si el valor de la intensidad del verde en dicho pixel es diferente de cero\n",
    "                    if orejas[i][filas][columnas][color] != 0:\n",
    "                        #suma recursivamente las (x_i - mediaAzuldeimageni)^2 (toda la suma es casi la varianza)\n",
    "                        #falta dividir entre N. Suma recursivamente 1 a los pixeles verdes (cuenta de pixeles\n",
    "                        #verdes que no tienen valor cero) pixelesVerdes es exactamente N\n",
    "                        varVerde += pow((orejas[i][filas][columnas][color]-mediaOrejas[i][color]),2)\n",
    "                        pixelesVerdes += 1\n",
    "                #si el color es rojo\n",
    "                if color == 2:\n",
    "                    #si el valor de la intensidad del pixel en el rojo es diferente de cero\n",
    "                    if orejas[i][filas][columnas][color] != 0:\n",
    "                        #suma recursivamente las (x_i - mediaAzuldeimageni)^2 (toda la suma es casi la varianza)\n",
    "                        #falta dividir entre N. Suma recursivamente 1 a los pixeles rojos (cuenta de pixeles\n",
    "                        #rojos que no tienen valor cero) pixelesRojos es exactamente N\n",
    "                        varRojo += pow((orejas[i][filas][columnas][color]-mediaOrejas[i][color]),2)\n",
    "                        pixelesRojos += 1\n",
    "\n",
    "    #Aqui termina de recorrer una imagen\n",
    "    #la varianza es la division entre varColor y pixeles color (de lo anterior esta es la definicion de la varianza)\n",
    "    varAzul = varAzul/pixelesAzules\n",
    "    varVerde = varVerde/pixelesVerdes                        \n",
    "    varRojo = varRojo/pixelesRojos\n",
    "    #asignamos la varianza a en la fila i (imagen i) en sus respectivas columnas (BGR)\n",
    "    varianzaOrejas[i][0] = varAzul\n",
    "    varianzaOrejas[i][1] = varVerde\n",
    "    varianzaOrejas[i][2] = varRojo\n",
    "    #resetea los valores de las variables auxiliares para evitar errores de calculo en la siguiente imagen\n",
    "    varAzul=0\n",
    "    varVerde=0\n",
    "    varRojo = 0\n",
    "    pixelesAzules = 0\n",
    "    pixelesVerdes = 0\n",
    "    pixelesRojos = 0"
   ]
  },
  {
   "cell_type": "code",
   "execution_count": 17,
   "metadata": {},
   "outputs": [
    {
     "data": {
      "text/plain": [
       "array([[13.22942962,  6.93525872, 13.93814325],\n",
       "       [33.70568459, 24.51152823, 37.53125632],\n",
       "       [10.4018359 ,  4.52888333, 11.45954233],\n",
       "       [52.51596849, 20.48699587, 54.22052178],\n",
       "       [ 8.82012021,  2.93281483,  9.73255847]])"
      ]
     },
     "execution_count": 17,
     "metadata": {},
     "output_type": "execute_result"
    }
   ],
   "source": [
    "#mostramos el array de la varianza de los ojos de cada imagen que acabamos de crear\n",
    "varianzaOrejas"
   ]
  },
  {
   "cell_type": "code",
   "execution_count": 18,
   "metadata": {},
   "outputs": [],
   "source": [
    "#Pasamos todos los arrays que creamos a dataframes cada uno con su nombre correcto\n",
    "MediaCuerpo = pd.DataFrame(mediaCuerpo)\n",
    "VarianzaCuerpo = pd.DataFrame(varianzaCuerpo)\n",
    "ProbabilidadCuerpo = pd.DataFrame(probabilidadCuerpo)\n",
    "MediaOjos = pd.DataFrame(mediaOjos)\n",
    "VarianzaOjos = pd.DataFrame(varianzaOjos)\n",
    "ProbabilidadOjos = pd.DataFrame(probabilidadOjos)\n",
    "MediaOrejas = pd.DataFrame(mediaOrejas)\n",
    "VarianzaOrejas = pd.DataFrame(varianzaOrejas)\n",
    "ProbabilidadOrejas = pd.DataFrame(probabilidadOrejas)"
   ]
  },
  {
   "cell_type": "code",
   "execution_count": 19,
   "metadata": {},
   "outputs": [],
   "source": [
    "#renombramos los headers de los dataframes de las medias de cada clase, esto para hacerlo mas descriptivo\n",
    "MediaCuerpo.rename(columns={0:'Media Azul Cuerpo',1:'Media Verde Cuerpo',2:'Media Rojo Cuerpo'}, inplace=True)\n",
    "MediaOjos.rename(columns={0:'Media Azul Ojos',1:'Media Verde Ojos',2:'Media Rojo Ojos'}, inplace=True)\n",
    "MediaOrejas.rename(columns={0:'Media Azul Orejas',1:'Media Verde Orejas',2:'Media Rojo Orejas'}, inplace=True)"
   ]
  },
  {
   "cell_type": "code",
   "execution_count": 20,
   "metadata": {},
   "outputs": [],
   "source": [
    "#renombramos los headers de los dataframes de las varianzas de cada clase, esto para hacerlo mas descriptivo\n",
    "VarianzaCuerpo.rename(columns={0:'Varianza Azul Cuerpo',1:'Varianza Verde Cuerpo',2:'Varianza Rojo Cuerpo'}, inplace=True)\n",
    "VarianzaOjos.rename(columns={0:'Varianza Azul Ojos',1:'Varianza Verde Ojos',2:'Varianza Rojo Ojos'}, inplace=True)\n",
    "VarianzaOrejas.rename(columns={0:'Varianza Azul Orejas',1:'Varianza Verde Orejas',2:'Varianza Rojo Orejas'}, inplace=True)"
   ]
  },
  {
   "cell_type": "code",
   "execution_count": 21,
   "metadata": {},
   "outputs": [],
   "source": [
    "#renombramos los headers de los dataframes de las probabilidades de cada clase, esto para hacerlo mas descriptivo\n",
    "ProbabilidadCuerpo.rename(columns={0:'Probabilidad Cuerpo'}, inplace=True)\n",
    "ProbabilidadOjos.rename(columns={0:'Probabilidad Ojos'}, inplace=True)\n",
    "ProbabilidadOrejas.rename(columns={0:'Probabilidad Orejas'}, inplace=True)"
   ]
  },
  {
   "cell_type": "code",
   "execution_count": 22,
   "metadata": {},
   "outputs": [
    {
     "data": {
      "text/html": [
       "<div>\n",
       "<style scoped>\n",
       "    .dataframe tbody tr th:only-of-type {\n",
       "        vertical-align: middle;\n",
       "    }\n",
       "\n",
       "    .dataframe tbody tr th {\n",
       "        vertical-align: top;\n",
       "    }\n",
       "\n",
       "    .dataframe thead th {\n",
       "        text-align: right;\n",
       "    }\n",
       "</style>\n",
       "<table border=\"1\" class=\"dataframe\">\n",
       "  <thead>\n",
       "    <tr style=\"text-align: right;\">\n",
       "      <th></th>\n",
       "      <th>Probabilidad Orejas</th>\n",
       "    </tr>\n",
       "  </thead>\n",
       "  <tbody>\n",
       "    <tr>\n",
       "      <th>0</th>\n",
       "      <td>0.027966</td>\n",
       "    </tr>\n",
       "    <tr>\n",
       "      <th>1</th>\n",
       "      <td>0.020744</td>\n",
       "    </tr>\n",
       "    <tr>\n",
       "      <th>2</th>\n",
       "      <td>0.031258</td>\n",
       "    </tr>\n",
       "    <tr>\n",
       "      <th>3</th>\n",
       "      <td>0.013943</td>\n",
       "    </tr>\n",
       "    <tr>\n",
       "      <th>4</th>\n",
       "      <td>0.018578</td>\n",
       "    </tr>\n",
       "  </tbody>\n",
       "</table>\n",
       "</div>"
      ],
      "text/plain": [
       "   Probabilidad Orejas\n",
       "0             0.027966\n",
       "1             0.020744\n",
       "2             0.031258\n",
       "3             0.013943\n",
       "4             0.018578"
      ]
     },
     "execution_count": 22,
     "metadata": {},
     "output_type": "execute_result"
    }
   ],
   "source": [
    "#inspeccion visual de las probabilidades a priori de la clase orejas\n",
    "ProbabilidadOrejas"
   ]
  },
  {
   "cell_type": "code",
   "execution_count": 23,
   "metadata": {},
   "outputs": [
    {
     "data": {
      "text/html": [
       "<div>\n",
       "<style scoped>\n",
       "    .dataframe tbody tr th:only-of-type {\n",
       "        vertical-align: middle;\n",
       "    }\n",
       "\n",
       "    .dataframe tbody tr th {\n",
       "        vertical-align: top;\n",
       "    }\n",
       "\n",
       "    .dataframe thead th {\n",
       "        text-align: right;\n",
       "    }\n",
       "</style>\n",
       "<table border=\"1\" class=\"dataframe\">\n",
       "  <thead>\n",
       "    <tr style=\"text-align: right;\">\n",
       "      <th></th>\n",
       "      <th>Probabilidad Ojos</th>\n",
       "    </tr>\n",
       "  </thead>\n",
       "  <tbody>\n",
       "    <tr>\n",
       "      <th>0</th>\n",
       "      <td>0.037426</td>\n",
       "    </tr>\n",
       "    <tr>\n",
       "      <th>1</th>\n",
       "      <td>0.156048</td>\n",
       "    </tr>\n",
       "    <tr>\n",
       "      <th>2</th>\n",
       "      <td>0.105762</td>\n",
       "    </tr>\n",
       "    <tr>\n",
       "      <th>3</th>\n",
       "      <td>0.045803</td>\n",
       "    </tr>\n",
       "    <tr>\n",
       "      <th>4</th>\n",
       "      <td>0.033405</td>\n",
       "    </tr>\n",
       "  </tbody>\n",
       "</table>\n",
       "</div>"
      ],
      "text/plain": [
       "   Probabilidad Ojos\n",
       "0           0.037426\n",
       "1           0.156048\n",
       "2           0.105762\n",
       "3           0.045803\n",
       "4           0.033405"
      ]
     },
     "execution_count": 23,
     "metadata": {},
     "output_type": "execute_result"
    }
   ],
   "source": [
    "#inspeccion visual de las probabilidades a priori de la clase Ojos\n",
    "ProbabilidadOjos"
   ]
  },
  {
   "cell_type": "code",
   "execution_count": 24,
   "metadata": {},
   "outputs": [
    {
     "data": {
      "text/html": [
       "<div>\n",
       "<style scoped>\n",
       "    .dataframe tbody tr th:only-of-type {\n",
       "        vertical-align: middle;\n",
       "    }\n",
       "\n",
       "    .dataframe tbody tr th {\n",
       "        vertical-align: top;\n",
       "    }\n",
       "\n",
       "    .dataframe thead th {\n",
       "        text-align: right;\n",
       "    }\n",
       "</style>\n",
       "<table border=\"1\" class=\"dataframe\">\n",
       "  <thead>\n",
       "    <tr style=\"text-align: right;\">\n",
       "      <th></th>\n",
       "      <th>Probabilidad Cuerpo</th>\n",
       "    </tr>\n",
       "  </thead>\n",
       "  <tbody>\n",
       "    <tr>\n",
       "      <th>0</th>\n",
       "      <td>0.362362</td>\n",
       "    </tr>\n",
       "    <tr>\n",
       "      <th>1</th>\n",
       "      <td>0.369446</td>\n",
       "    </tr>\n",
       "    <tr>\n",
       "      <th>2</th>\n",
       "      <td>0.343895</td>\n",
       "    </tr>\n",
       "    <tr>\n",
       "      <th>3</th>\n",
       "      <td>0.271641</td>\n",
       "    </tr>\n",
       "    <tr>\n",
       "      <th>4</th>\n",
       "      <td>0.338604</td>\n",
       "    </tr>\n",
       "  </tbody>\n",
       "</table>\n",
       "</div>"
      ],
      "text/plain": [
       "   Probabilidad Cuerpo\n",
       "0             0.362362\n",
       "1             0.369446\n",
       "2             0.343895\n",
       "3             0.271641\n",
       "4             0.338604"
      ]
     },
     "execution_count": 24,
     "metadata": {},
     "output_type": "execute_result"
    }
   ],
   "source": [
    "#inspeccion visual de las probabilidades a priori de la clase Cuerpo\n",
    "ProbabilidadCuerpo"
   ]
  },
  {
   "cell_type": "code",
   "execution_count": 25,
   "metadata": {},
   "outputs": [],
   "source": [
    "#guardamos los 9 dataframes que creamos y modificamos con su respectivo nombre correcto\n",
    "#usamos index=False para evitar que se escriba una columna con los indices ya sabemos que el indice cero es ImagendeClase0\n",
    "#y asi sucesivamente, aunque esta informacion no nos sera util\n",
    "MediaCuerpo.to_csv('mediaCuerpo.csv',index=False)\n",
    "MediaOjos.to_csv('mediaOjos.csv',index=False)\n",
    "MediaOrejas.to_csv('mediaOrejas.csv',index=False)\n",
    "VarianzaCuerpo.to_csv('varianzaCuerpo.csv',index=False)\n",
    "VarianzaOjos.to_csv('varianzaOjos.csv',index=False)\n",
    "VarianzaOrejas.to_csv('varianzaOrejas.csv',index=False)\n",
    "ProbabilidadCuerpo.to_csv('probabilidadCuerpo.csv',index=False)\n",
    "ProbabilidadOjos.to_csv('probabilidadOjos.csv',index=False)\n",
    "ProbabilidadOrejas.to_csv('probabilidadOrejas.csv',index=False)"
   ]
  }
 ],
 "metadata": {
  "kernelspec": {
   "display_name": "Python 3",
   "language": "python",
   "name": "python3"
  },
  "language_info": {
   "codemirror_mode": {
    "name": "ipython",
    "version": 3
   },
   "file_extension": ".py",
   "mimetype": "text/x-python",
   "name": "python",
   "nbconvert_exporter": "python",
   "pygments_lexer": "ipython3",
   "version": "3.7.7"
  }
 },
 "nbformat": 4,
 "nbformat_minor": 4
}
