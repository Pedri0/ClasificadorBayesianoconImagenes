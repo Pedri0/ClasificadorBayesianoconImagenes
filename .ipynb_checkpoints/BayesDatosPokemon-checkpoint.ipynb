{
 "cells": [
  {
   "cell_type": "code",
   "execution_count": 1,
   "metadata": {},
   "outputs": [],
   "source": [
    "import numpy as np\n",
    "import cv2\n",
    "import glob\n",
    "import pandas as pd\n",
    "import math\n",
    "import sklearn\n",
    "from sklearn.naive_bayes import GaussianNB\n",
    "from sklearn.metrics import accuracy_score\n",
    "\n",
    "cuerpo = [cv2.imread(file) for file in glob.glob(\"jigglypuff/cuerpo*.png\")]\n",
    "ojos = [cv2.imread(file) for file in glob.glob(\"jigglypuff/ojos*.png\")]\n",
    "orejas = [cv2.imread(file) for file in glob.glob(\"jigglypuff/orejas*.png\")]\n",
    "\n",
    "Rojo = 0\n",
    "Azul = 0\n",
    "Verde = 0\n",
    "pixelesAzules = 0\n",
    "pixelesVerdes = 0\n",
    "pixelesRojos = 0\n",
    "mediaCuerpo = np.zeros((5,3),dtype=float)"
   ]
  },
  {
   "cell_type": "code",
   "execution_count": 2,
   "metadata": {},
   "outputs": [],
   "source": [
    "for i in range(len(cuerpo)):\n",
    "    for filas in range(cuerpo[1].shape[0]):\n",
    "        for columnas in range(cuerpo[1].shape[1]):\n",
    "            for color in range(cuerpo[1].shape[2]):\n",
    "                if color == 0:\n",
    "                    Azul += cuerpo[i][filas][columnas][color]\n",
    "                    if cuerpo[i][filas][columnas][color] != 0:\n",
    "                        pixelesAzules += 1\n",
    "                if color == 1:\n",
    "                    Verde += cuerpo[i][filas][columnas][color]\n",
    "                    if cuerpo[i][filas][columnas][color] != 0:\n",
    "                        pixelesVerdes += 1\n",
    "                if color == 2:\n",
    "                    Rojo += cuerpo[i][filas][columnas][color]\n",
    "                    if cuerpo[i][filas][columnas][color] != 0:\n",
    "                        pixelesRojos += 1\n",
    "\n",
    "    mediaAzul = Azul/pixelesAzules\n",
    "    mediaVerde = Verde/pixelesVerdes                        \n",
    "    mediaRojo = Rojo/pixelesRojos\n",
    "    mediaCuerpo[i][0] = mediaAzul\n",
    "    mediaCuerpo[i][1] = mediaVerde\n",
    "    mediaCuerpo[i][2] = mediaRojo\n",
    "    mediaAzul=0\n",
    "    mediaVerde=0\n",
    "    mediaRojo = 0\n",
    "    pixelesAzules = 0\n",
    "    pixelesVerdes = 0\n",
    "    pixelesRojos = 0\n",
    "    Rojo = 0\n",
    "    Azul = 0\n",
    "    Verde = 0"
   ]
  },
  {
   "cell_type": "code",
   "execution_count": 3,
   "metadata": {},
   "outputs": [
    {
     "data": {
      "text/plain": [
       "array([[231.60895243, 219.11930604, 252.48161405],\n",
       "       [183.5449777 , 177.5890674 , 190.09366223],\n",
       "       [229.23326678, 221.33151414, 246.34956184],\n",
       "       [220.5143451 , 200.44442416, 219.82981084],\n",
       "       [200.90454356, 195.16023568, 212.54086725]])"
      ]
     },
     "execution_count": 3,
     "metadata": {},
     "output_type": "execute_result"
    }
   ],
   "source": [
    "mediaCuerpo"
   ]
  },
  {
   "cell_type": "code",
   "execution_count": 4,
   "metadata": {},
   "outputs": [
    {
     "data": {
      "text/plain": [
       "0"
      ]
     },
     "execution_count": 4,
     "metadata": {},
     "output_type": "execute_result"
    }
   ],
   "source": [
    "Rojo"
   ]
  },
  {
   "cell_type": "code",
   "execution_count": 5,
   "metadata": {},
   "outputs": [],
   "source": [
    "varianzaCuerpo = np.zeros((5,3),dtype=float)\n",
    "varAzul = 0.0\n",
    "varVerde = 0.0\n",
    "varRojo = 0.0\n",
    "for i in range(len(cuerpo)):\n",
    "    for filas in range(cuerpo[1].shape[0]):\n",
    "        for columnas in range(cuerpo[1].shape[1]):\n",
    "            for color in range(cuerpo[1].shape[2]):\n",
    "                if color == 0:\n",
    "                    if cuerpo[i][filas][columnas][color] != 0:\n",
    "                        varAzul += pow((cuerpo[i][filas][columnas][color]-mediaCuerpo[i][color]),2)\n",
    "                        pixelesAzules += 1\n",
    "                if color == 1:\n",
    "                    if cuerpo[i][filas][columnas][color] != 0:\n",
    "                        varVerde += pow((cuerpo[i][filas][columnas][color]-mediaCuerpo[i][color]),2)\n",
    "                        pixelesVerdes += 1\n",
    "                if color == 2:\n",
    "                    if cuerpo[i][filas][columnas][color] != 0:\n",
    "                        varRojo += pow((cuerpo[i][filas][columnas][color]-mediaCuerpo[i][color]),2)\n",
    "                        pixelesRojos += 1\n",
    "\n",
    "    varAzul = varAzul/pixelesAzules\n",
    "    varVerde = varVerde/pixelesVerdes                        \n",
    "    varRojo = varRojo/pixelesRojos\n",
    "    varianzaCuerpo[i][0] = varAzul\n",
    "    varianzaCuerpo[i][1] = varVerde\n",
    "    varianzaCuerpo[i][2] = varRojo\n",
    "    varAzul=0\n",
    "    varVerde=0\n",
    "    varRojo = 0\n",
    "    pixelesAzules = 0\n",
    "    pixelesVerdes = 0\n",
    "    pixelesRojos = 0"
   ]
  },
  {
   "cell_type": "code",
   "execution_count": 6,
   "metadata": {},
   "outputs": [
    {
     "data": {
      "text/plain": [
       "array([[ 11.79137125, 189.77674627,   5.2775067 ],\n",
       "       [ 46.05546916,  86.85880663,  20.63032164],\n",
       "       [  2.0072505 ,   1.88342061,   1.95917091],\n",
       "       [ 92.07231665, 131.342447  ,  36.31274807],\n",
       "       [ 72.38613158, 166.39744001,  82.90605888]])"
      ]
     },
     "execution_count": 6,
     "metadata": {},
     "output_type": "execute_result"
    }
   ],
   "source": [
    "varianzaCuerpo"
   ]
  },
  {
   "cell_type": "code",
   "execution_count": 7,
   "metadata": {},
   "outputs": [
    {
     "data": {
      "text/plain": [
       "0"
      ]
     },
     "execution_count": 7,
     "metadata": {},
     "output_type": "execute_result"
    }
   ],
   "source": [
    "mediaAzul"
   ]
  },
  {
   "cell_type": "code",
   "execution_count": 8,
   "metadata": {},
   "outputs": [],
   "source": [
    "mediaOjos = np.zeros((5,3),dtype=float)\n",
    "for i in range(len(ojos)):\n",
    "    for filas in range(ojos[1].shape[0]):\n",
    "        for columnas in range(ojos[1].shape[1]):\n",
    "            for color in range(ojos[1].shape[2]):\n",
    "                if color == 0:\n",
    "                    Azul += ojos[i][filas][columnas][color]\n",
    "                    if ojos[i][filas][columnas][color] != 0:\n",
    "                        pixelesAzules += 1\n",
    "                if color == 1:\n",
    "                    Verde += ojos[i][filas][columnas][color]\n",
    "                    if ojos[i][filas][columnas][color] != 0:\n",
    "                        pixelesVerdes += 1\n",
    "                if color == 2:\n",
    "                    Rojo += ojos[i][filas][columnas][color]\n",
    "                    if ojos[i][filas][columnas][color] != 0:\n",
    "                        pixelesRojos += 1\n",
    "\n",
    "    mediaAzul = Azul/pixelesAzules\n",
    "    mediaVerde = Verde/pixelesVerdes                        \n",
    "    mediaRojo = Rojo/pixelesRojos\n",
    "    mediaOjos[i][0] = mediaAzul\n",
    "    mediaOjos[i][1] = mediaVerde\n",
    "    mediaOjos[i][2] = mediaRojo\n",
    "    mediaAzul=0\n",
    "    mediaVerde=0\n",
    "    mediaRojo = 0\n",
    "    pixelesAzules = 0\n",
    "    pixelesVerdes = 0\n",
    "    pixelesRojos = 0\n",
    "    Rojo = 0\n",
    "    Azul = 0\n",
    "    Verde = 0"
   ]
  },
  {
   "cell_type": "code",
   "execution_count": 9,
   "metadata": {},
   "outputs": [
    {
     "data": {
      "text/plain": [
       "array([[164.60167159, 180.13158699,  80.18091938],\n",
       "       [114.69181314,  96.32561664,  70.06837461],\n",
       "       [134.3496844 , 143.79588819,  65.71228133],\n",
       "       [162.86266345, 147.84917132,  87.024569  ],\n",
       "       [138.3481786 , 142.89585474, 105.27018385]])"
      ]
     },
     "execution_count": 9,
     "metadata": {},
     "output_type": "execute_result"
    }
   ],
   "source": [
    "mediaOjos"
   ]
  },
  {
   "cell_type": "code",
   "execution_count": 10,
   "metadata": {},
   "outputs": [],
   "source": [
    "varianzaOjos = np.zeros((5,3),dtype=float)\n",
    "for i in range(len(ojos)):\n",
    "    for filas in range(ojos[1].shape[0]):\n",
    "        for columnas in range(ojos[1].shape[1]):\n",
    "            for color in range(ojos[1].shape[2]):\n",
    "                if color == 0:\n",
    "                    if ojos[i][filas][columnas][color] != 0:\n",
    "                        varAzul += pow((ojos[i][filas][columnas][color]-mediaOjos[i][color]),2)\n",
    "                        pixelesAzules += 1\n",
    "                if color == 1:\n",
    "                    if ojos[i][filas][columnas][color] != 0:\n",
    "                        varVerde += pow((ojos[i][filas][columnas][color]-mediaOjos[i][color]),2)\n",
    "                        pixelesVerdes += 1\n",
    "                if color == 2:\n",
    "                    if ojos[i][filas][columnas][color] != 0:\n",
    "                        varRojo += pow((ojos[i][filas][columnas][color]-mediaOjos[i][color]),2)\n",
    "                        pixelesRojos += 1\n",
    "\n",
    "    varAzul = varAzul/pixelesAzules\n",
    "    varVerde = varVerde/pixelesVerdes                        \n",
    "    varRojo = varRojo/pixelesRojos\n",
    "    varianzaOjos[i][0] = varAzul\n",
    "    varianzaOjos[i][1] = varVerde\n",
    "    varianzaOjos[i][2] = varRojo\n",
    "    varAzul=0\n",
    "    varVerde=0\n",
    "    varRojo = 0\n",
    "    pixelesAzules = 0\n",
    "    pixelesVerdes = 0\n",
    "    pixelesRojos = 0"
   ]
  },
  {
   "cell_type": "code",
   "execution_count": 11,
   "metadata": {},
   "outputs": [
    {
     "data": {
      "text/plain": [
       "array([[ 429.50395807,  394.72481105,  837.68951871],\n",
       "       [1592.9246263 , 1048.3214801 ,  500.85657115],\n",
       "       [ 752.21824381,  989.35502006, 2127.67689335],\n",
       "       [ 428.93283352,  479.85290658,  694.29830533],\n",
       "       [ 370.40121085,  369.23432905,  413.94253112]])"
      ]
     },
     "execution_count": 11,
     "metadata": {},
     "output_type": "execute_result"
    }
   ],
   "source": [
    "varianzaOjos"
   ]
  },
  {
   "cell_type": "code",
   "execution_count": 12,
   "metadata": {},
   "outputs": [],
   "source": [
    "mediaOrejas = np.zeros((5,3),dtype=float)\n",
    "for i in range(len(orejas)):\n",
    "    for filas in range(orejas[1].shape[0]):\n",
    "        for columnas in range(orejas[1].shape[1]):\n",
    "            for color in range(orejas[1].shape[2]):\n",
    "                if color == 0:\n",
    "                    Azul += orejas[i][filas][columnas][color]\n",
    "                    if orejas[i][filas][columnas][color] != 0:\n",
    "                        pixelesAzules += 1\n",
    "                if color == 1:\n",
    "                    Verde += orejas[i][filas][columnas][color]\n",
    "                    if orejas[i][filas][columnas][color] != 0:\n",
    "                        pixelesVerdes += 1\n",
    "                if color == 2:\n",
    "                    Rojo += orejas[i][filas][columnas][color]\n",
    "                    if orejas[i][filas][columnas][color] != 0:\n",
    "                        pixelesRojos += 1\n",
    "\n",
    "    mediaAzul = Azul/pixelesAzules\n",
    "    mediaVerde = Verde/pixelesVerdes                        \n",
    "    mediaRojo = Rojo/pixelesRojos\n",
    "    mediaOrejas[i][0] = mediaAzul\n",
    "    mediaOrejas[i][1] = mediaVerde\n",
    "    mediaOrejas[i][2] = mediaRojo\n",
    "    mediaAzul=0\n",
    "    mediaVerde=0\n",
    "    mediaRojo = 0\n",
    "    pixelesAzules = 0\n",
    "    pixelesVerdes = 0\n",
    "    pixelesRojos = 0\n",
    "    Rojo = 0\n",
    "    Azul = 0\n",
    "    Verde = 0"
   ]
  },
  {
   "cell_type": "code",
   "execution_count": 13,
   "metadata": {},
   "outputs": [
    {
     "data": {
      "text/plain": [
       "array([[43.16846269, 44.63129177, 69.03955804],\n",
       "       [31.71591957, 37.95862449, 42.83725634],\n",
       "       [52.16060532, 51.65340493, 69.06102026],\n",
       "       [28.60957592, 24.55677155, 37.15950752],\n",
       "       [34.41704312, 38.85585216, 53.59712526]])"
      ]
     },
     "execution_count": 13,
     "metadata": {},
     "output_type": "execute_result"
    }
   ],
   "source": [
    "mediaOrejas"
   ]
  },
  {
   "cell_type": "code",
   "execution_count": 14,
   "metadata": {},
   "outputs": [],
   "source": [
    "varianzaOrejas = np.zeros((5,3),dtype=float)\n",
    "for i in range(len(cuerpo)):\n",
    "    for filas in range(orejas[1].shape[0]):\n",
    "        for columnas in range(orejas[1].shape[1]):\n",
    "            for color in range(orejas[1].shape[2]):\n",
    "                if color == 0:\n",
    "                    if orejas[i][filas][columnas][color] != 0:\n",
    "                        varAzul += pow((orejas[i][filas][columnas][color]-mediaOrejas[i][color]),2)\n",
    "                        pixelesAzules += 1\n",
    "                if color == 1:\n",
    "                    if orejas[i][filas][columnas][color] != 0:\n",
    "                        varVerde += pow((orejas[i][filas][columnas][color]-mediaOrejas[i][color]),2)\n",
    "                        pixelesVerdes += 1\n",
    "                if color == 2:\n",
    "                    if orejas[i][filas][columnas][color] != 0:\n",
    "                        varRojo += pow((orejas[i][filas][columnas][color]-mediaOrejas[i][color]),2)\n",
    "                        pixelesRojos += 1\n",
    "\n",
    "    varAzul = varAzul/pixelesAzules\n",
    "    varVerde = varVerde/pixelesVerdes                        \n",
    "    varRojo = varRojo/pixelesRojos\n",
    "    varianzaOrejas[i][0] = varAzul\n",
    "    varianzaOrejas[i][1] = varVerde\n",
    "    varianzaOrejas[i][2] = varRojo\n",
    "    varAzul=0\n",
    "    varVerde=0\n",
    "    varRojo = 0\n",
    "    pixelesAzules = 0\n",
    "    pixelesVerdes = 0\n",
    "    pixelesRojos = 0"
   ]
  },
  {
   "cell_type": "code",
   "execution_count": 15,
   "metadata": {},
   "outputs": [
    {
     "data": {
      "text/plain": [
       "array([[13.22942962,  6.93525872, 13.93814325],\n",
       "       [33.70568459, 24.51152823, 37.53125632],\n",
       "       [10.4018359 ,  4.52888333, 11.45954233],\n",
       "       [52.51596849, 20.48699587, 54.22052178],\n",
       "       [ 8.82012021,  2.93281483,  9.73255847]])"
      ]
     },
     "execution_count": 15,
     "metadata": {},
     "output_type": "execute_result"
    }
   ],
   "source": [
    "varianzaOrejas"
   ]
  }
 ],
 "metadata": {
  "kernelspec": {
   "display_name": "Python 3",
   "language": "python",
   "name": "python3"
  },
  "language_info": {
   "codemirror_mode": {
    "name": "ipython",
    "version": 3
   },
   "file_extension": ".py",
   "mimetype": "text/x-python",
   "name": "python",
   "nbconvert_exporter": "python",
   "pygments_lexer": "ipython3",
   "version": "3.7.7"
  }
 },
 "nbformat": 4,
 "nbformat_minor": 4
}
