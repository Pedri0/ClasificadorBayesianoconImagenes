{
 "cells": [
  {
   "cell_type": "code",
   "execution_count": 8,
   "metadata": {},
   "outputs": [],
   "source": [
    "import glob\n",
    "import cv2\n",
    "\n",
    "images = [cv2.imread(file) for file in glob.glob(\"jigglypuff/cuerpo*.png\")]\n",
    "j=0\n",
    "for i in images:\n",
    "    blur = cv2.GaussianBlur(i,(27,27),0)\n",
    "    cv2.imwrite('jigglypuffBlur/cuerpo'+'%d'%j + '.png',blur)\n",
    "    j = j+1"
   ]
  },
  {
   "cell_type": "code",
   "execution_count": 9,
   "metadata": {},
   "outputs": [],
   "source": [
    "images = [cv2.imread(file) for file in glob.glob(\"jigglypuff/ojos*.png\")]\n",
    "j=0\n",
    "for i in images:\n",
    "    blur = cv2.GaussianBlur(i,(17,17),0)\n",
    "    cv2.imwrite('jigglypuffBlur/ojos'+'%d'%j + '.png',blur)\n",
    "    j = j+1"
   ]
  },
  {
   "cell_type": "code",
   "execution_count": 10,
   "metadata": {},
   "outputs": [],
   "source": [
    "images = [cv2.imread(file) for file in glob.glob(\"jigglypuff/orejas*.png\")]\n",
    "j=0\n",
    "for i in images:\n",
    "    blur = cv2.GaussianBlur(i,(17,17),0)\n",
    "    cv2.imwrite('jigglypuffBlur/orejas'+'%d'%j + '.png',blur)\n",
    "    j = j+1"
   ]
  }
 ],
 "metadata": {
  "kernelspec": {
   "display_name": "Python 3",
   "language": "python",
   "name": "python3"
  },
  "language_info": {
   "codemirror_mode": {
    "name": "ipython",
    "version": 3
   },
   "file_extension": ".py",
   "mimetype": "text/x-python",
   "name": "python",
   "nbconvert_exporter": "python",
   "pygments_lexer": "ipython3",
   "version": "3.7.7"
  }
 },
 "nbformat": 4,
 "nbformat_minor": 4
}
