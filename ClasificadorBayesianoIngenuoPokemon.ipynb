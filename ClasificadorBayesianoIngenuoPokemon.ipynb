{
 "cells": [
  {
   "cell_type": "code",
   "execution_count": 43,
   "metadata": {},
   "outputs": [
    {
     "name": "stdout",
     "output_type": "stream",
     "text": [
      "<class 'pandas.core.frame.DataFrame'>\n",
      "RangeIndex: 5 entries, 0 to 4\n",
      "Data columns (total 1 columns):\n",
      " #   Column               Non-Null Count  Dtype  \n",
      "---  ------               --------------  -----  \n",
      " 0   Probabilidad Orejas  5 non-null      float64\n",
      "dtypes: float64(1)\n",
      "memory usage: 168.0 bytes\n"
     ]
    },
    {
     "data": {
      "text/html": [
       "<div>\n",
       "<style scoped>\n",
       "    .dataframe tbody tr th:only-of-type {\n",
       "        vertical-align: middle;\n",
       "    }\n",
       "\n",
       "    .dataframe tbody tr th {\n",
       "        vertical-align: top;\n",
       "    }\n",
       "\n",
       "    .dataframe thead th {\n",
       "        text-align: right;\n",
       "    }\n",
       "</style>\n",
       "<table border=\"1\" class=\"dataframe\">\n",
       "  <thead>\n",
       "    <tr style=\"text-align: right;\">\n",
       "      <th></th>\n",
       "      <th>Probabilidad Orejas</th>\n",
       "    </tr>\n",
       "  </thead>\n",
       "  <tbody>\n",
       "    <tr>\n",
       "      <th>0</th>\n",
       "      <td>0.027966</td>\n",
       "    </tr>\n",
       "    <tr>\n",
       "      <th>1</th>\n",
       "      <td>0.020744</td>\n",
       "    </tr>\n",
       "    <tr>\n",
       "      <th>2</th>\n",
       "      <td>0.031258</td>\n",
       "    </tr>\n",
       "    <tr>\n",
       "      <th>3</th>\n",
       "      <td>0.013943</td>\n",
       "    </tr>\n",
       "    <tr>\n",
       "      <th>4</th>\n",
       "      <td>0.018578</td>\n",
       "    </tr>\n",
       "  </tbody>\n",
       "</table>\n",
       "</div>"
      ],
      "text/plain": [
       "   Probabilidad Orejas\n",
       "0             0.027966\n",
       "1             0.020744\n",
       "2             0.031258\n",
       "3             0.013943\n",
       "4             0.018578"
      ]
     },
     "execution_count": 43,
     "metadata": {},
     "output_type": "execute_result"
    }
   ],
   "source": [
    "#Importamos librerias utiles\n",
    "import pandas as pd\n",
    "import numpy as np\n",
    "import math as m\n",
    "import cv2\n",
    "import sklearn\n",
    "from sklearn.naive_bayes import GaussianNB\n",
    "from sklearn.metrics import accuracy_score\n",
    "\n",
    "\n",
    "#leemos nuestros datos de Cuerpo\n",
    "mediaCuerpo = pd.read_csv('mediaCuerpo.csv')\n",
    "varianzaCuerpo = pd.read_csv('varianzaCuerpo.csv')\n",
    "probCuerpo = pd.read_csv('probabilidadCuerpo.csv')\n",
    "\n",
    "#leemos nuestros datos de Ojos\n",
    "mediaOjos = pd.read_csv('mediaOjos.csv')\n",
    "varianzaOjos = pd.read_csv('varianzaOjos.csv')\n",
    "probOjos = pd.read_csv('probabilidadOjos.csv')\n",
    "\n",
    "#leemos nuestros datos de Orejas\n",
    "mediaOrejas = pd.read_csv('mediaOrejas.csv')\n",
    "varianzaOrejas = pd.read_csv('varianzaOrejas.csv')\n",
    "probOrejas = pd.read_csv('probabilidadOrejas.csv')\n",
    "\n",
    "#mostrmos cualquier datafrme\n",
    "probOrejas.info()\n",
    "probOrejas"
   ]
  },
  {
   "cell_type": "markdown",
   "metadata": {},
   "source": [
    "### Un poco de teoría\n",
    "\n",
    "El clasificador naive Bayes es una forma de aprendizaje supervisado. El nombre de naive o ingenuo proviene de que este tipo de clasificadores se supone que cada par de caracteristicas es condicionalmente independiente entre sí.\n",
    "\n",
    "Usando el teorema de Bayes es posible deducir que para cada clase $y$ y un vector de características $\\vec{x} = x_1 , x_2 ,..., x_n$ tenemos que:\n",
    "\n",
    "$$P(y| \\vec{x}) \\approx P(y)\\prod_{i=1}^{n}P(x_i | y)$$\n",
    "<br>\n",
    "Donde asumimos que cada probabilidad $P(x_i | y)$ sigue una distribucion bien definida. $P(y)$ sera la probabilidad a priori.\n",
    "De esta manera para cada columna de cada dataframe asumiremos que siguen una distribucion de probabilidad Gausiana o normal dada por:\n",
    "\n",
    "$$P(x_i | y) = \\frac{1}{\\sqrt{2 \\pi \\sigma_{y}^{2}}} exp \\left( - \\frac{(x_y - \\mu_y )^2}{2 \\sigma_{y}^{2}}  \\right)$$\n",
    "<br>\n",
    "El valor estimado $\\hat{y}$ vendrá dado por:\n",
    "<br>\n",
    "$$\\hat{y} = argmax_y P(y)\\prod_{i=1}^{n}P(x_i | y)$$\n",
    "<br>\n",
    "Dado que asumimos que todas las clases (columnas de la tabla) siguen una distribución normal, debemos calcular $\\sigma_{y}^{2}$ y $\\mu_y$ para cada una de ellas, para posteriormente calcular $P(x_i | y)$ y finalmente obtener $P(y| \\vec{x})$"
   ]
  },
  {
   "cell_type": "markdown",
   "metadata": {},
   "source": [
    "### Inestabilidad númerica.\n",
    "Hay ocasiones en las que python detecta algunos valores como si fueran cero. Sin embargo, dichos valores no son cero, son valores muy pequeños como $1\\times10^{-2250}$. Esto se considera como una inestabilidad númerica.\n",
    "<br>\n",
    "Para evitar este problema calculamos la siguiente ecuacion:\n",
    "<br>\n",
    "$$ln(P(x_i | y)) = ln \\left( \\frac{1}{\\sqrt{2 \\pi \\sigma_{y}^{2}}} exp \\left( - \\frac{(x_y - \\mu_y )^2}{2 \\sigma_{y}^{2}}  \\right)\\right)$$\n",
    "<br>\n",
    "donde $ln(x)$ es el logaritmo natural de x. Realizando algebra sencilla encontramos que la ecuacion anterior es:\n",
    "$$ln(P(x_i | y)) = \\left( \\frac{-(\\mu_y - x_y)^2}{2\\sigma ^2} + ln\\left( \\frac{1}{\\sigma}\\right) - \\frac{ln(2\\pi)}{2} \\right)$$\n",
    "<br>\n",
    "Por otro lado, veamos que:\n",
    "<br>\n",
    "$$ln(P(y| \\vec{x})) \\approx ln(P(y)\\prod_{i=1}^{n}P(x_i | y))$$\n",
    "<br>\n",
    "Por propiedades de los logaritmos resulta ser:\n",
    "<br>\n",
    "$$ln(P(y| \\vec{x})) \\approx ln(P(y)) + \\sum_{i=1}^{n}ln(P(x_i | y))$$\n",
    "<br>\n",
    "\n",
    "Dado que la predicción $\\hat{y}$ escoge el valor maximo, aplicar el logaritmo natural a $P(y| \\vec{x})$ no aporta información ya que el logaritmo es una función creciente en el intervalo $(0,\\infty)$. Por lo que nuestra predicción $\\hat{y}$ tambien será:\n",
    "<br>\n",
    "$$\\hat{y} = argmax_y \\left( ln(P(y)) + \\sum_{i=1}^{n}ln(P(x_i | y))\\right)$$\n",
    "<br>"
   ]
  },
  {
   "cell_type": "code",
   "execution_count": 2,
   "metadata": {},
   "outputs": [
    {
     "data": {
      "text/plain": [
       "Varianza Azul Ojos     714.796175\n",
       "Varianza Verde Ojos    656.297709\n",
       "Varianza Rojo Ojos     914.892764\n",
       "dtype: float64"
      ]
     },
     "execution_count": 2,
     "metadata": {},
     "output_type": "execute_result"
    }
   ],
   "source": [
    "#Vamos a calcular la media de: las medias de cada color (BGR), las varianzas de cada color. Tambien,\n",
    "#vamos a calculas la varianza de: las medias de cada color (BGR), las varianzas de cada color\n",
    "#Para ello hacemos:\n",
    "medCuerpo = mediaCuerpo.mean(axis=0)\n",
    "medOjos = mediaOjos.mean(axis=0)\n",
    "medOrejas = mediaOrejas.mean(axis=0)\n",
    "\n",
    "#calculamos la varianza de cada columna para cada dataframe\n",
    "varCuerpo = varianzaCuerpo.mean(axis=0)\n",
    "varOjos = varianzaOjos.mean(axis=0)\n",
    "varOrejas = varianzaOrejas.mean(axis=0)\n",
    "\n",
    "\n",
    "#calculamos la varianza de cada columna para cada dataframe\n",
    "#varCuerpo = varianzaCuerpo.var(axis=0)\n",
    "#varOjos = varianzaOjos.var(axis=0)\n",
    "#varOrejas = varianzaOrejas.var(axis=0)\n",
    "\n",
    "#Convertimos el dataframe prob(Clase) a un array numpy\n",
    "pCuerpo=probCuerpo.to_numpy()\n",
    "pOjos = probOjos.to_numpy()\n",
    "pOrejas = probOrejas.to_numpy()\n",
    "\n",
    "varOjos"
   ]
  },
  {
   "cell_type": "code",
   "execution_count": 3,
   "metadata": {},
   "outputs": [],
   "source": [
    "#definimos la funcion exponencial que come los parametros varianza, media y x\n",
    "def exp(x,med,var):\n",
    "    e = (1/(m.sqrt(2*m.pi*pow(var,2))))*(m.exp(-((pow((x-med),2))/(2*pow(var,2)))))\n",
    "    return e\n",
    "\n",
    "def log(x,med,var):\n",
    "    ln = ((-1/(2*pow(var,2)))*(pow((med-x),2)))+(m.log((1/var)))-(m.log(2*m.pi)/2)\n",
    "    return ln"
   ]
  },
  {
   "cell_type": "code",
   "execution_count": 55,
   "metadata": {},
   "outputs": [],
   "source": [
    "img = cv2.imread('test.png')\n",
    "cv2.imshow('Imagen de Prueba',img)\n",
    "cv2.waitKey(0)\n",
    "cv2.destroyAllWindows()"
   ]
  },
  {
   "cell_type": "code",
   "execution_count": 5,
   "metadata": {},
   "outputs": [
    {
     "data": {
      "text/plain": [
       "array([[0.36236191],\n",
       "       [0.3694458 ],\n",
       "       [0.34389496],\n",
       "       [0.27164078],\n",
       "       [0.33860397]])"
      ]
     },
     "execution_count": 5,
     "metadata": {},
     "output_type": "execute_result"
    }
   ],
   "source": [
    "pCuerpo"
   ]
  },
  {
   "cell_type": "code",
   "execution_count": 56,
   "metadata": {},
   "outputs": [],
   "source": [
    "Imagen = np.zeros(img.shape,dtype=float)\n",
    "Imagen2 = np.zeros(img.shape,dtype=float)"
   ]
  },
  {
   "cell_type": "code",
   "execution_count": 34,
   "metadata": {},
   "outputs": [],
   "source": [
    "PCe = 0\n",
    "POe = 0\n",
    "POre = 0\n",
    "\n",
    "PCl = 0\n",
    "POl = 0\n",
    "POrl = 0"
   ]
  },
  {
   "cell_type": "code",
   "execution_count": 61,
   "metadata": {},
   "outputs": [],
   "source": [
    "for filas in range(img.shape[0]):\n",
    "        for columnas in range(img.shape[1]):\n",
    "            PCe = log(img[filas][columnas][0],medCuerpo[0],varCuerpo[0])+log(img[filas][columnas][1],medCuerpo[1],varCuerpo[1])+log(img[filas][columnas][2],medCuerpo[2],varCuerpo[2])\n",
    "            POe = log(img[filas][columnas][0],medOjos[0],varOjos[0])+log(img[filas][columnas][1],medOjos[1],varOjos[1])+log(img[filas][columnas][2],medOjos[2],varOjos[2])\n",
    "            POre = log(img[filas][columnas][0],medOrejas[0],varOrejas[0])+log(img[filas][columnas][1],medOrejas[1],varOrejas[1])+log(img[filas][columnas][2],medOrejas[2],varOrejas[2])\n",
    "            maximo=max(PCe,POe,POre)\n",
    "            if maximo == PCe:\n",
    "                Imagen[filas][columnas][0] = medCuerpo[0]\n",
    "                Imagen[filas][columnas][1] = medCuerpo[1]\n",
    "                Imagen[filas][columnas][2] = medCuerpo[2]\n",
    "            elif maximo == POe:\n",
    "                Imagen[filas][columnas][0] = medOjos[0]\n",
    "                Imagen[filas][columnas][1] = medOjos[1]\n",
    "                Imagen[filas][columnas][2] = medOjos[2]\n",
    "            elif maximo ==POre:\n",
    "                Imagen[filas][columnas][0] = medOrejas[0]\n",
    "                Imagen[filas][columnas][1] = medOrejas[1]\n",
    "                Imagen[filas][columnas][2] = medOrejas[2]\n",
    "                \n",
    "            PCl = log(img[filas][columnas][0],medCuerpo[0],varCuerpo[0])+log(img[filas][columnas][1],medCuerpo[1],varCuerpo[1])+log(img[filas][columnas][2],medCuerpo[2],varCuerpo[2])+(-1.0871103)\n",
    "            POl = log(img[filas][columnas][0],medOjos[0],varOjos[0])+log(img[filas][columnas][1],medOjos[1],varOjos[1])+log(img[filas][columnas][2],medOjos[2],varOjos[2])+(-2.581123)\n",
    "            POrl = log(img[filas][columnas][0],medOrejas[0],varOrejas[0])+log(img[filas][columnas][1],medOrejas[1],varOrejas[1])+log(img[filas][columnas][2],medOrejas[2],varOrejas[2])+(-3.7943484)\n",
    "            maximo1=max(PCl,POl,POrl)\n",
    "            if maximo1 == PCl:\n",
    "                Imagen2[filas][columnas][0] = medCuerpo[0]\n",
    "                Imagen2[filas][columnas][1] = medCuerpo[1]\n",
    "                Imagen2[filas][columnas][2] = medCuerpo[2]\n",
    "            elif maximo1 == POl:\n",
    "                Imagen2[filas][columnas][0] = medOjos[0]\n",
    "                Imagen2[filas][columnas][1] = medOjos[1]\n",
    "                Imagen2[filas][columnas][2] = medOjos[2]\n",
    "            elif maximo1 ==POrl:\n",
    "                Imagen2[filas][columnas][0] = medOrejas[0]\n",
    "                Imagen2[filas][columnas][1] = medOrejas[1]\n",
    "                Imagen2[filas][columnas][2] = medOrejas[2]\n",
    "            else:\n",
    "                Imagen[filas][columnas][0] = 0\n",
    "                Imagen[filas][columnas][1] = 255\n",
    "                Imagen[filas][columnas][2] = 255\n",
    "                \n",
    "            PCe =0\n",
    "            POe=0\n",
    "            POre=0\n",
    "            maximo=0\n",
    "            PCl =0\n",
    "            POl=0\n",
    "            POrl=0\n",
    "            maximo1=0"
   ]
  },
  {
   "cell_type": "code",
   "execution_count": 62,
   "metadata": {},
   "outputs": [],
   "source": [
    "j = Imagen.astype(np.uint8)\n",
    "j2= Imagen2.astype(np.uint8)"
   ]
  },
  {
   "cell_type": "code",
   "execution_count": 63,
   "metadata": {},
   "outputs": [
    {
     "ename": "error",
     "evalue": "OpenCV(4.2.0) ..\\modules\\imgcodecs\\src\\loadsave.cpp:661: error: (-2:Unspecified error) could not find a writer for the specified extension in function 'cv::imwrite_'\n",
     "output_type": "error",
     "traceback": [
      "\u001b[1;31m---------------------------------------------------------------------------\u001b[0m",
      "\u001b[1;31merror\u001b[0m                                     Traceback (most recent call last)",
      "\u001b[1;32m<ipython-input-63-ee8bfe0addc1>\u001b[0m in \u001b[0;36m<module>\u001b[1;34m\u001b[0m\n\u001b[0;32m      2\u001b[0m \u001b[0mcv2\u001b[0m\u001b[1;33m.\u001b[0m\u001b[0mwaitKey\u001b[0m\u001b[1;33m(\u001b[0m\u001b[1;36m0\u001b[0m\u001b[1;33m)\u001b[0m\u001b[1;33m\u001b[0m\u001b[1;33m\u001b[0m\u001b[0m\n\u001b[0;32m      3\u001b[0m \u001b[0mcv2\u001b[0m\u001b[1;33m.\u001b[0m\u001b[0mdestroyAllWindows\u001b[0m\u001b[1;33m(\u001b[0m\u001b[1;33m)\u001b[0m\u001b[1;33m\u001b[0m\u001b[1;33m\u001b[0m\u001b[0m\n\u001b[1;32m----> 4\u001b[1;33m \u001b[0mcv2\u001b[0m\u001b[1;33m.\u001b[0m\u001b[0mimwrite\u001b[0m\u001b[1;33m(\u001b[0m\u001b[1;34m'SinaPriori'\u001b[0m\u001b[1;33m,\u001b[0m \u001b[0mj\u001b[0m\u001b[1;33m)\u001b[0m\u001b[1;33m\u001b[0m\u001b[1;33m\u001b[0m\u001b[0m\n\u001b[0m",
      "\u001b[1;31merror\u001b[0m: OpenCV(4.2.0) ..\\modules\\imgcodecs\\src\\loadsave.cpp:661: error: (-2:Unspecified error) could not find a writer for the specified extension in function 'cv::imwrite_'\n"
     ]
    }
   ],
   "source": [
    "cv2.imshow('Imagen de Prueba',j)\n",
    "cv2.waitKey(0)\n",
    "cv2.destroyAllWindows()\n",
    "cv2.imwrite('SinaPriori', j)"
   ]
  },
  {
   "cell_type": "code",
   "execution_count": 60,
   "metadata": {},
   "outputs": [
    {
     "ename": "error",
     "evalue": "OpenCV(4.2.0) ..\\modules\\imgcodecs\\src\\loadsave.cpp:661: error: (-2:Unspecified error) could not find a writer for the specified extension in function 'cv::imwrite_'\n",
     "output_type": "error",
     "traceback": [
      "\u001b[1;31m---------------------------------------------------------------------------\u001b[0m",
      "\u001b[1;31merror\u001b[0m                                     Traceback (most recent call last)",
      "\u001b[1;32m<ipython-input-60-6cebe9a8ebf0>\u001b[0m in \u001b[0;36m<module>\u001b[1;34m\u001b[0m\n\u001b[0;32m      2\u001b[0m \u001b[0mcv2\u001b[0m\u001b[1;33m.\u001b[0m\u001b[0mwaitKey\u001b[0m\u001b[1;33m(\u001b[0m\u001b[1;36m0\u001b[0m\u001b[1;33m)\u001b[0m\u001b[1;33m\u001b[0m\u001b[1;33m\u001b[0m\u001b[0m\n\u001b[0;32m      3\u001b[0m \u001b[0mcv2\u001b[0m\u001b[1;33m.\u001b[0m\u001b[0mdestroyAllWindows\u001b[0m\u001b[1;33m(\u001b[0m\u001b[1;33m)\u001b[0m\u001b[1;33m\u001b[0m\u001b[1;33m\u001b[0m\u001b[0m\n\u001b[1;32m----> 4\u001b[1;33m \u001b[0mcv2\u001b[0m\u001b[1;33m.\u001b[0m\u001b[0mimwrite\u001b[0m\u001b[1;33m(\u001b[0m\u001b[1;34m'ConaPriori'\u001b[0m\u001b[1;33m,\u001b[0m \u001b[0mj2\u001b[0m\u001b[1;33m)\u001b[0m\u001b[1;33m\u001b[0m\u001b[1;33m\u001b[0m\u001b[0m\n\u001b[0m",
      "\u001b[1;31merror\u001b[0m: OpenCV(4.2.0) ..\\modules\\imgcodecs\\src\\loadsave.cpp:661: error: (-2:Unspecified error) could not find a writer for the specified extension in function 'cv::imwrite_'\n"
     ]
    }
   ],
   "source": [
    "cv2.imshow('Imagen de Prueba',j2)\n",
    "cv2.waitKey(0)\n",
    "cv2.destroyAllWindows()\n",
    "cv2.imwrite('ConaPriori', j2)"
   ]
  }
 ],
 "metadata": {
  "kernelspec": {
   "display_name": "Python 3",
   "language": "python",
   "name": "python3"
  },
  "language_info": {
   "codemirror_mode": {
    "name": "ipython",
    "version": 3
   },
   "file_extension": ".py",
   "mimetype": "text/x-python",
   "name": "python",
   "nbconvert_exporter": "python",
   "pygments_lexer": "ipython3",
   "version": "3.7.7"
  }
 },
 "nbformat": 4,
 "nbformat_minor": 4
}
